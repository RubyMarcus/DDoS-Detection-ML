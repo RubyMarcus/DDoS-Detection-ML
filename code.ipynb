{
 "cells": [
  {
   "cell_type": "code",
   "execution_count": 1,
   "id": "422ad888",
   "metadata": {},
   "outputs": [],
   "source": [
    "import pandas as pd\n",
    "import numpy as np\n",
    "from sklearn.utils import resample\n",
    "from sklearn import preprocessing\n",
    "import os\n",
    "from sklearn.model_selection import train_test_split\n",
    "from sklearn.svm import SVC\n",
    "import time\n",
    "from sklearn.preprocessing import LabelEncoder\n",
    "from sklearn.feature_selection import VarianceThreshold\n",
    "from sklearn.ensemble import RandomForestClassifier\n",
    "import matplotlib.pyplot as plt\n",
    "from sklearn.model_selection import cross_val_score\n",
    "from sklearn.metrics import f1_score, accuracy_score\n",
    "from sklearn.preprocessing import StandardScaler\n",
    "import xgboost as xgb\n",
    "from sklearn.tree import DecisionTreeClassifier"
   ]
  },
  {
   "cell_type": "code",
   "execution_count": 2,
   "id": "8d435dd8",
   "metadata": {
    "scrolled": true
   },
   "outputs": [
    {
     "name": "stdout",
     "output_type": "stream",
     "text": [
      "Defaulting to user installation because normal site-packages is not writeable\n",
      "Requirement already satisfied: xgboost in /Users/marcuslundgren/Library/Python/3.9/lib/python/site-packages (2.0.3)\n",
      "Requirement already satisfied: numpy in /Users/marcuslundgren/Library/Python/3.9/lib/python/site-packages (from xgboost) (1.24.2)\n",
      "Requirement already satisfied: scipy in /Users/marcuslundgren/Library/Python/3.9/lib/python/site-packages (from xgboost) (1.10.0)\n",
      "\n",
      "\u001b[1m[\u001b[0m\u001b[34;49mnotice\u001b[0m\u001b[1;39;49m]\u001b[0m\u001b[39;49m A new release of pip available: \u001b[0m\u001b[31;49m22.3.1\u001b[0m\u001b[39;49m -> \u001b[0m\u001b[32;49m24.0\u001b[0m\n",
      "\u001b[1m[\u001b[0m\u001b[34;49mnotice\u001b[0m\u001b[1;39;49m]\u001b[0m\u001b[39;49m To update, run: \u001b[0m\u001b[32;49m/Library/Developer/CommandLineTools/usr/bin/python3 -m pip install --upgrade pip\u001b[0m\n"
     ]
    }
   ],
   "source": [
    "!pip3 install xgboost"
   ]
  },
  {
   "cell_type": "code",
   "execution_count": 3,
   "id": "23ea6651",
   "metadata": {},
   "outputs": [],
   "source": [
    "col_name_consistency = {\n",
    "'Flow ID': 'Flow ID',\n",
    "'Source IP': 'Source IP',\n",
    "'Src IP':  'Source IP',\n",
    "'Source Port': 'Source Port',\n",
    "'Src Port': 'Source Port',\n",
    "'Destination IP': 'Destination IP',\n",
    "'Dst IP': 'Destination IP',\n",
    "'Destination Port': 'Destination Port',\n",
    "'Dst Port': 'Destination Port',\n",
    "'Protocol': 'Protocol',\n",
    "'Timestamp': 'Timestamp',\n",
    "'Flow Duration': 'Flow Duration',\n",
    "'Total Fwd Packets': 'Total Fwd Packets',\n",
    "'Tot Fwd Pkts': 'Total Fwd Packets',\n",
    "'Total Backward Packets': 'Total Backward Packets',\n",
    "'Tot Bwd Pkts': 'Total Backward Packets',\n",
    "'Total Length of Fwd Packets': 'Fwd Packets Length Total',\n",
    "'TotLen Fwd Pkts': 'Fwd Packets Length Total',\n",
    "'Total Length of Bwd Packets': 'Bwd Packets Length Total',\n",
    "'TotLen Bwd Pkts': 'Bwd Packets Length Total',\n",
    "'Fwd Packet Length Max': 'Fwd Packet Length Max',\n",
    "'Fwd Pkt Len Max': 'Fwd Packet Length Max',\n",
    "'Fwd Packet Length Min': 'Fwd Packet Length Min',\n",
    "'Fwd Pkt Len Min': 'Fwd Packet Length Min',\n",
    "'Fwd Packet Length Mean': 'Fwd Packet Length Mean',\n",
    "'Fwd Pkt Len Mean': 'Fwd Packet Length Mean',\n",
    "'Fwd Packet Length Std': 'Fwd Packet Length Std',\n",
    "'Fwd Pkt Len Std': 'Fwd Packet Length Std',\n",
    "'Bwd Packet Length Max': 'Bwd Packet Length Max',\n",
    "'Bwd Pkt Len Max': 'Bwd Packet Length Max',\n",
    "'Bwd Packet Length Min': 'Bwd Packet Length Min',\n",
    "'Bwd Pkt Len Min': 'Bwd Packet Length Min',\n",
    "'Bwd Packet Length Mean': 'Bwd Packet Length Mean',\n",
    "'Bwd Pkt Len Mean': 'Bwd Packet Length Mean',\n",
    "'Bwd Packet Length Std': 'Bwd Packet Length Std',\n",
    "'Bwd Pkt Len Std': 'Bwd Packet Length Std',\n",
    "'Flow Bytes/s': 'Flow Bytes/s',\n",
    "'Flow Byts/s': 'Flow Bytes/s',\n",
    "'Flow Packets/s': 'Flow Packets/s',\n",
    "'Flow Pkts/s': 'Flow Packets/s',\n",
    "'Flow IAT Mean': 'Flow IAT Mean',\n",
    "'Flow IAT Std': 'Flow IAT Std',\n",
    "'Flow IAT Max': 'Flow IAT Max',\n",
    "'Flow IAT Min': 'Flow IAT Min',\n",
    "'Fwd IAT Total': 'Fwd IAT Total',\n",
    "'Fwd IAT Tot': 'Fwd IAT Total',\n",
    "'Fwd IAT Mean': 'Fwd IAT Mean',\n",
    "'Fwd IAT Std': 'Fwd IAT Std',\n",
    "'Fwd IAT Max': 'Fwd IAT Max',\n",
    "'Fwd IAT Min': 'Fwd IAT Min',\n",
    "'Bwd IAT Total': 'Bwd IAT Total',\n",
    "'Bwd IAT Tot': 'Bwd IAT Total',\n",
    "'Bwd IAT Mean': 'Bwd IAT Mean',\n",
    "'Bwd IAT Std': 'Bwd IAT Std',\n",
    "'Bwd IAT Max': 'Bwd IAT Max',\n",
    "'Bwd IAT Min': 'Bwd IAT Min',\n",
    "'Fwd PSH Flags': 'Fwd PSH Flags',\n",
    "'Bwd PSH Flags': 'Bwd PSH Flags',\n",
    "'Fwd URG Flags': 'Fwd URG Flags',\n",
    "'Bwd URG Flags': 'Bwd URG Flags',\n",
    "'Fwd Header Length': 'Fwd Header Length',\n",
    "'Fwd Header Len': 'Fwd Header Length',\n",
    "'Bwd Header Length': 'Bwd Header Length',\n",
    "'Bwd Header Len': 'Bwd Header Length',\n",
    "'Fwd Packets/s': 'Fwd Packets/s',\n",
    "'Fwd Pkts/s': 'Fwd Packets/s',\n",
    "'Bwd Packets/s': 'Bwd Packets/s',\n",
    "'Bwd Pkts/s': 'Bwd Packets/s',\n",
    "'Min Packet Length': 'Packet Length Min',\n",
    "'Pkt Len Min': 'Packet Length Min',\n",
    "'Max Packet Length': 'Packet Length Max',\n",
    "'Pkt Len Max': 'Packet Length Max',\n",
    "'Packet Length Mean': 'Packet Length Mean',\n",
    "'Pkt Len Mean': 'Packet Length Mean',\n",
    "'Packet Length Std': 'Packet Length Std',\n",
    "'Pkt Len Std': 'Packet Length Std',\n",
    "'Packet Length Variance': 'Packet Length Variance',\n",
    "'Pkt Len Var': 'Packet Length Variance',\n",
    "'FIN Flag Count': 'FIN Flag Count',\n",
    "'FIN Flag Cnt': 'FIN Flag Count',\n",
    "'SYN Flag Count': 'SYN Flag Count',\n",
    "'SYN Flag Cnt': 'SYN Flag Count',\n",
    "'RST Flag Count': 'RST Flag Count',\n",
    "'RST Flag Cnt': 'RST Flag Count',\n",
    "'PSH Flag Count': 'PSH Flag Count',\n",
    "'PSH Flag Cnt': 'PSH Flag Count',\n",
    "'ACK Flag Count': 'ACK Flag Count',\n",
    "'ACK Flag Cnt': 'ACK Flag Count',\n",
    "'URG Flag Count': 'URG Flag Count',\n",
    "'URG Flag Cnt': 'URG Flag Count',\n",
    "'CWE Flag Count': 'CWE Flag Count',\n",
    "'CWE Flag Cnt': 'CWE Flag Count',\n",
    "'ECE Flag Count': 'ECE Flag Count',\n",
    "'ECE Flag Cnt': 'ECE Flag Count',\n",
    "'Down/Up Ratio': 'Down/Up Ratio',\n",
    "'Average Packet Size': 'Avg Packet Size',\n",
    "'Pkt Size Avg': 'Avg Packet Size',\n",
    "'Avg Fwd Segment Size': 'Avg Fwd Segment Size',\n",
    "'Fwd Seg Size Avg': 'Avg Fwd Segment Size',\n",
    "'Avg Bwd Segment Size': 'Avg Bwd Segment Size',\n",
    "'Bwd Seg Size Avg': 'Avg Bwd Segment Size',\n",
    "'Fwd Avg Bytes/Bulk': 'Fwd Avg Bytes/Bulk',\n",
    "'Fwd Byts/b Avg': 'Fwd Avg Bytes/Bulk',\n",
    "'Fwd Avg Packets/Bulk': 'Fwd Avg Packets/Bulk',\n",
    "'Fwd Pkts/b Avg': 'Fwd Avg Packets/Bulk',\n",
    "'Fwd Avg Bulk Rate': 'Fwd Avg Bulk Rate',\n",
    "'Fwd Blk Rate Avg': 'Fwd Avg Bulk Rate',\n",
    "'Bwd Avg Bytes/Bulk': 'Bwd Avg Bytes/Bulk',\n",
    "'Bwd Byts/b Avg': 'Bwd Avg Bytes/Bulk',\n",
    "'Bwd Avg Packets/Bulk': 'Bwd Avg Packets/Bulk',\n",
    "'Bwd Pkts/b Avg': 'Bwd Avg Packets/Bulk',\n",
    "'Bwd Avg Bulk Rate': 'Bwd Avg Bulk Rate',\n",
    "'Bwd Blk Rate Avg': 'Bwd Avg Bulk Rate',\n",
    "'Subflow Fwd Packets': 'Subflow Fwd Packets',\n",
    "'Subflow Fwd Pkts': 'Subflow Fwd Packets',\n",
    "'Subflow Fwd Bytes': 'Subflow Fwd Bytes',\n",
    "'Subflow Fwd Byts': 'Subflow Fwd Bytes',\n",
    "'Subflow Bwd Packets': 'Subflow Bwd Packets',\n",
    "'Subflow Bwd Pkts': 'Subflow Bwd Packets',\n",
    "'Subflow Bwd Bytes': 'Subflow Bwd Bytes',\n",
    "'Subflow Bwd Byts': 'Subflow Bwd Bytes',\n",
    "'Init_Win_bytes_forward': 'Init Fwd Win Bytes',\n",
    "'Init Fwd Win Byts': 'Init Fwd Win Bytes',\n",
    "'Init_Win_bytes_backward': 'Init Bwd Win Bytes',\n",
    "'Init Bwd Win Byts': 'Init Bwd Win Bytes',\n",
    "'act_data_pkt_fwd': 'Fwd Act Data Packets',\n",
    "'Fwd Act Data Pkts': 'Fwd Act Data Packets',\n",
    "'min_seg_size_forward': 'Fwd Seg Size Min',\n",
    "'Fwd Seg Size Min': 'Fwd Seg Size Min',\n",
    "'Active Mean': 'Active Mean',\n",
    "'Active Std': 'Active Std',\n",
    "'Active Max': 'Active Max',\n",
    "'Active Min': 'Active Min',\n",
    "'Idle Mean': 'Idle Mean',\n",
    "'Idle Std': 'Idle Std',\n",
    "'Idle Max': 'Idle Max',\n",
    "'Idle Min': 'Idle Min',\n",
    "'Label': 'Label'\n",
    "}"
   ]
  },
  {
   "cell_type": "code",
   "execution_count": 4,
   "id": "75869b69",
   "metadata": {},
   "outputs": [],
   "source": [
    "drop_columns = [ # this list includes all spellings across CIC NIDS datasets\n",
    "    \"Flow ID\",    \n",
    "    'Fwd Header Length.1',\n",
    "    \"Source IP\", \"Src IP\",\n",
    "    \"Source Port\", \"Src Port\",\n",
    "    \"Destination IP\", \"Dst IP\",\n",
    "    \"Destination Port\", \"Dst Port\",\n",
    "    \"Timestamp\",\n",
    "    \"Unnamed: 0\", \"Inbound\", \"SimillarHTTP\" # CIC-DDoS other undocumented columns\n",
    "]"
   ]
  },
  {
   "cell_type": "code",
   "execution_count": 5,
   "id": "2fb638d0",
   "metadata": {},
   "outputs": [
    {
     "name": "stdout",
     "output_type": "stream",
     "text": [
      "01-12/DrDoS_NTP.csv\n",
      "01-12/Syn.csv\n",
      "01-12/DrDoS_DNS.csv\n",
      "01-12/TFTP.csv\n",
      "01-12/UDPLag.csv\n",
      "01-12/DrDoS_SSDP.csv\n",
      "01-12/DrDoS_NetBIOS.csv\n",
      "01-12/DrDoS_MSSQL.csv\n",
      "01-12/DrDoS_UDP.csv\n",
      "01-12/DrDoS_LDAP.csv\n",
      "01-12/DrDoS_SNMP.csv\n"
     ]
    }
   ],
   "source": [
    "root_directory = '01-12'\n",
    "\n",
    "# Get all directory names\n",
    "dspaths = []\n",
    "for dirname, _, filenames in os.walk(root_directory):\n",
    "    for filename in filenames:\n",
    "        if filename.endswith('.csv'):\n",
    "            pds = os.path.join(dirname, filename)\n",
    "            dspaths.append(pds)\n",
    "            print(pds)\n"
   ]
  },
  {
   "cell_type": "code",
   "execution_count": 6,
   "id": "37a95945",
   "metadata": {
    "scrolled": false
   },
   "outputs": [
    {
     "name": "stderr",
     "output_type": "stream",
     "text": [
      "/var/folders/k7/24jm52n97r19bdzp5z6j0xzm0000gn/T/ipykernel_32550/1828111907.py:2: DtypeWarning: Columns (85) have mixed types. Specify dtype option on import or set low_memory=False.\n",
      "  df_list = [pd.read_csv(dsp, sep=',', encoding='utf-8') for dsp in dspaths]\n",
      "/var/folders/k7/24jm52n97r19bdzp5z6j0xzm0000gn/T/ipykernel_32550/1828111907.py:2: DtypeWarning: Columns (85) have mixed types. Specify dtype option on import or set low_memory=False.\n",
      "  df_list = [pd.read_csv(dsp, sep=',', encoding='utf-8') for dsp in dspaths]\n",
      "/var/folders/k7/24jm52n97r19bdzp5z6j0xzm0000gn/T/ipykernel_32550/1828111907.py:2: DtypeWarning: Columns (85) have mixed types. Specify dtype option on import or set low_memory=False.\n",
      "  df_list = [pd.read_csv(dsp, sep=',', encoding='utf-8') for dsp in dspaths]\n",
      "/var/folders/k7/24jm52n97r19bdzp5z6j0xzm0000gn/T/ipykernel_32550/1828111907.py:2: DtypeWarning: Columns (85) have mixed types. Specify dtype option on import or set low_memory=False.\n",
      "  df_list = [pd.read_csv(dsp, sep=',', encoding='utf-8') for dsp in dspaths]\n",
      "/var/folders/k7/24jm52n97r19bdzp5z6j0xzm0000gn/T/ipykernel_32550/1828111907.py:2: DtypeWarning: Columns (85) have mixed types. Specify dtype option on import or set low_memory=False.\n",
      "  df_list = [pd.read_csv(dsp, sep=',', encoding='utf-8') for dsp in dspaths]\n",
      "/var/folders/k7/24jm52n97r19bdzp5z6j0xzm0000gn/T/ipykernel_32550/1828111907.py:2: DtypeWarning: Columns (85) have mixed types. Specify dtype option on import or set low_memory=False.\n",
      "  df_list = [pd.read_csv(dsp, sep=',', encoding='utf-8') for dsp in dspaths]\n",
      "/var/folders/k7/24jm52n97r19bdzp5z6j0xzm0000gn/T/ipykernel_32550/1828111907.py:2: DtypeWarning: Columns (85) have mixed types. Specify dtype option on import or set low_memory=False.\n",
      "  df_list = [pd.read_csv(dsp, sep=',', encoding='utf-8') for dsp in dspaths]\n",
      "/var/folders/k7/24jm52n97r19bdzp5z6j0xzm0000gn/T/ipykernel_32550/1828111907.py:2: DtypeWarning: Columns (85) have mixed types. Specify dtype option on import or set low_memory=False.\n",
      "  df_list = [pd.read_csv(dsp, sep=',', encoding='utf-8') for dsp in dspaths]\n",
      "/var/folders/k7/24jm52n97r19bdzp5z6j0xzm0000gn/T/ipykernel_32550/1828111907.py:2: DtypeWarning: Columns (85) have mixed types. Specify dtype option on import or set low_memory=False.\n",
      "  df_list = [pd.read_csv(dsp, sep=',', encoding='utf-8') for dsp in dspaths]\n",
      "/var/folders/k7/24jm52n97r19bdzp5z6j0xzm0000gn/T/ipykernel_32550/1828111907.py:2: DtypeWarning: Columns (85) have mixed types. Specify dtype option on import or set low_memory=False.\n",
      "  df_list = [pd.read_csv(dsp, sep=',', encoding='utf-8') for dsp in dspaths]\n",
      "/var/folders/k7/24jm52n97r19bdzp5z6j0xzm0000gn/T/ipykernel_32550/1828111907.py:2: DtypeWarning: Columns (85) have mixed types. Specify dtype option on import or set low_memory=False.\n",
      "  df_list = [pd.read_csv(dsp, sep=',', encoding='utf-8') for dsp in dspaths]\n"
     ]
    },
    {
     "data": {
      "text/plain": [
       "[(1217007, 88),\n",
       " (1582681, 88),\n",
       " (5074413, 88),\n",
       " (20107827, 88),\n",
       " (370605, 88),\n",
       " (2611374, 88),\n",
       " (4094986, 88),\n",
       " (4524498, 88),\n",
       " (3136802, 88),\n",
       " (2181542, 88),\n",
       " (5161377, 88)]"
      ]
     },
     "execution_count": 6,
     "metadata": {},
     "output_type": "execute_result"
    }
   ],
   "source": [
    "# Read all data files\n",
    "df_list = [pd.read_csv(dsp, sep=',', encoding='utf-8') for dsp in dspaths]\n",
    "[i.shape for i in df_list]"
   ]
  },
  {
   "cell_type": "code",
   "execution_count": 7,
   "id": "f77f91a0",
   "metadata": {},
   "outputs": [],
   "source": [
    "# Drop metadata, rename columns and more...\n",
    "def preprocess_data(df):\n",
    "    df.columns = df.columns.str.strip() # sometimes there's leading / trailing whitespace\n",
    "    df.drop(columns=drop_columns, inplace=True, errors='ignore')    \n",
    "    df.rename(columns=col_name_consistency, inplace=True)\n",
    "    df['Label'].replace({'BENIGN': 'Benign'}, inplace=True)\n",
    "    print(df.shape)"
   ]
  },
  {
   "cell_type": "code",
   "execution_count": 8,
   "id": "a84f341d",
   "metadata": {},
   "outputs": [
    {
     "name": "stdout",
     "output_type": "stream",
     "text": [
      "(1217007, 78)\n",
      "(1582681, 78)\n",
      "(5074413, 78)\n",
      "(20107827, 78)\n",
      "(370605, 78)\n",
      "(2611374, 78)\n",
      "(4094986, 78)\n",
      "(4524498, 78)\n",
      "(3136802, 78)\n",
      "(2181542, 78)\n",
      "(5161377, 78)\n"
     ]
    }
   ],
   "source": [
    "# Preprocess data for each data file\n",
    "for df in df_list:\n",
    "    preprocess_data(df)"
   ]
  },
  {
   "cell_type": "code",
   "execution_count": 9,
   "id": "b34fcdf6",
   "metadata": {},
   "outputs": [],
   "source": [
    "# Downcast types for better memory management\n",
    "def convert_types(df):\n",
    "    # Convert integer columns\n",
    "    for col in df.select_dtypes(include=['int']).columns:\n",
    "        df[col] = pd.to_numeric(df[col], downcast='integer')\n",
    "    \n",
    "    # Convert float columns\n",
    "    for col in df.select_dtypes(include=['float']).columns:\n",
    "        df[col] = pd.to_numeric(df[col], downcast='float')\n",
    "\n",
    "    # Convert object columns to category where appropriate\n",
    "    for col in df.select_dtypes(include=['object']).columns:\n",
    "        if len(df[col].unique()) / len(df[col]) < 0.5:  # Arbitrary threshold\n",
    "            df[col] = df[col].astype('category')"
   ]
  },
  {
   "cell_type": "code",
   "execution_count": 10,
   "id": "c1d4e4bb",
   "metadata": {},
   "outputs": [],
   "source": [
    "# Convert types for all data files\n",
    "for df in df_list:\n",
    "    convert_types(df)"
   ]
  },
  {
   "cell_type": "code",
   "execution_count": 11,
   "id": "6b19a3f0",
   "metadata": {},
   "outputs": [],
   "source": [
    "# Function to handle NaN values\n",
    "def handle_nan(df):\n",
    "    # Handle NaN values\n",
    "    print(df.isna().any(axis=1).sum(), \"rows with at least one NaN to remove\")\n",
    "    df.replace([np.inf, -np.inf], np.nan, inplace=True) \n",
    "    df.dropna(inplace=True)"
   ]
  },
  {
   "cell_type": "code",
   "execution_count": 12,
   "id": "4d971493",
   "metadata": {},
   "outputs": [
    {
     "name": "stdout",
     "output_type": "stream",
     "text": [
      "31 rows with at least one NaN to remove\n",
      "202277 rows with at least one NaN to remove\n",
      "31 rows with at least one NaN to remove\n",
      "10497 rows with at least one NaN to remove\n",
      "36132 rows with at least one NaN to remove\n",
      "2 rows with at least one NaN to remove\n",
      "8 rows with at least one NaN to remove\n",
      "14 rows with at least one NaN to remove\n",
      "8 rows with at least one NaN to remove\n",
      "12 rows with at least one NaN to remove\n",
      "12 rows with at least one NaN to remove\n"
     ]
    }
   ],
   "source": [
    "# Remove NaN files for all data files\n",
    "for df in df_list:\n",
    "    handle_nan(df)"
   ]
  },
  {
   "cell_type": "code",
   "execution_count": 13,
   "id": "8f8218f0",
   "metadata": {},
   "outputs": [
    {
     "name": "stdout",
     "output_type": "stream",
     "text": [
      "(1209961, 78)\n",
      "(1380364, 78)\n",
      "(4912019, 78)\n",
      "(19541066, 78)\n",
      "(334202, 78)\n",
      "(2569324, 78)\n",
      "(3965133, 78)\n",
      "(4398032, 78)\n",
      "(3096129, 78)\n",
      "(2142892, 78)\n",
      "(5150754, 78)\n"
     ]
    }
   ],
   "source": [
    "# Print accquired shape\n",
    "for df in df_list:\n",
    "    print(df.shape)"
   ]
  },
  {
   "cell_type": "code",
   "execution_count": 14,
   "id": "dcc183c0",
   "metadata": {},
   "outputs": [],
   "source": [
    "# Removes all duplicates\n",
    "def handle_duplicates(df):\n",
    "    # Duplicates rows can lead to biased training and therefore can create over-optimistic\n",
    "    # estimates of classification performance during testing\n",
    "    print(df.duplicated().sum(), \"fully duplicate rows to remove\")\n",
    "    print(df.shape)\n",
    "    df.drop_duplicates(inplace=True)\n",
    "    df.reset_index(inplace=True, drop=True)\n",
    "    print(df.shape)"
   ]
  },
  {
   "cell_type": "code",
   "execution_count": 15,
   "id": "951436d8",
   "metadata": {},
   "outputs": [
    {
     "name": "stdout",
     "output_type": "stream",
     "text": [
      "83918 fully duplicate rows to remove\n",
      "(1209961, 78)\n",
      "(1126043, 78)\n",
      "1224489 fully duplicate rows to remove\n",
      "(1380364, 78)\n",
      "(155875, 78)\n",
      "4800865 fully duplicate rows to remove\n",
      "(4912019, 78)\n",
      "(111154, 78)\n",
      "15121570 fully duplicate rows to remove\n",
      "(19541066, 78)\n",
      "(4419496, 78)\n",
      "241260 fully duplicate rows to remove\n",
      "(334202, 78)\n",
      "(92942, 78)\n",
      "1678301 fully duplicate rows to remove\n",
      "(2569324, 78)\n",
      "(891023, 78)\n",
      "3945581 fully duplicate rows to remove\n",
      "(3965133, 78)\n",
      "(19552, 78)\n",
      "4202815 fully duplicate rows to remove\n",
      "(4398032, 78)\n",
      "(195217, 78)\n",
      "2019622 fully duplicate rows to remove\n",
      "(3096129, 78)\n",
      "(1076507, 78)\n",
      "2112628 fully duplicate rows to remove\n",
      "(2142892, 78)\n",
      "(30264, 78)\n",
      "5037386 fully duplicate rows to remove\n",
      "(5150754, 78)\n",
      "(113368, 78)\n"
     ]
    }
   ],
   "source": [
    "# Remove duplicates for all data files\n",
    "for df in df_list:\n",
    "    handle_duplicates(df)"
   ]
  },
  {
   "cell_type": "code",
   "execution_count": 16,
   "id": "c999e49c",
   "metadata": {},
   "outputs": [],
   "source": [
    "# Assuming 'df' is your DataFrame and 'label' is your target variable\n",
    "le = LabelEncoder()\n",
    "\n",
    "# Encode target label\n",
    "for df in df_list:\n",
    "    df['encoded_label'] = le.fit_transform(df['Label'])\n",
    "    df.drop(['Label'], axis=1, inplace=True)"
   ]
  },
  {
   "cell_type": "code",
   "execution_count": 17,
   "id": "f7b22280",
   "metadata": {},
   "outputs": [
    {
     "name": "stdout",
     "output_type": "stream",
     "text": [
      "Protocol                       int8\n",
      "Flow Duration                 int32\n",
      "Total Fwd Packets             int16\n",
      "Total Backward Packets        int16\n",
      "Fwd Packets Length Total    float32\n",
      "                             ...   \n",
      "Idle Mean                   float64\n",
      "Idle Std                    float64\n",
      "Idle Max                    float64\n",
      "Idle Min                    float64\n",
      "encoded_label                 int64\n",
      "Length: 78, dtype: object\n",
      "Protocol                       int8\n",
      "Flow Duration                 int32\n",
      "Total Fwd Packets             int16\n",
      "Total Backward Packets        int16\n",
      "Fwd Packets Length Total    float32\n",
      "                             ...   \n",
      "Idle Mean                   float64\n",
      "Idle Std                    float64\n",
      "Idle Max                    float64\n",
      "Idle Min                    float64\n",
      "encoded_label                 int64\n",
      "Length: 78, dtype: object\n",
      "Protocol                       int8\n",
      "Flow Duration                 int32\n",
      "Total Fwd Packets             int32\n",
      "Total Backward Packets        int16\n",
      "Fwd Packets Length Total    float32\n",
      "                             ...   \n",
      "Idle Mean                   float64\n",
      "Idle Std                    float64\n",
      "Idle Max                    float64\n",
      "Idle Min                    float64\n",
      "encoded_label                 int64\n",
      "Length: 78, dtype: object\n",
      "Protocol                       int8\n",
      "Flow Duration                 int32\n",
      "Total Fwd Packets             int16\n",
      "Total Backward Packets        int16\n",
      "Fwd Packets Length Total    float32\n",
      "                             ...   \n",
      "Idle Mean                   float64\n",
      "Idle Std                    float64\n",
      "Idle Max                    float64\n",
      "Idle Min                    float64\n",
      "encoded_label                 int64\n",
      "Length: 78, dtype: object\n",
      "Protocol                       int8\n",
      "Flow Duration                 int32\n",
      "Total Fwd Packets             int16\n",
      "Total Backward Packets        int16\n",
      "Fwd Packets Length Total    float32\n",
      "                             ...   \n",
      "Idle Mean                   float64\n",
      "Idle Std                    float64\n",
      "Idle Max                    float64\n",
      "Idle Min                    float64\n",
      "encoded_label                 int64\n",
      "Length: 78, dtype: object\n",
      "Protocol                       int8\n",
      "Flow Duration                 int32\n",
      "Total Fwd Packets             int32\n",
      "Total Backward Packets        int16\n",
      "Fwd Packets Length Total    float32\n",
      "                             ...   \n",
      "Idle Mean                   float64\n",
      "Idle Std                    float64\n",
      "Idle Max                    float64\n",
      "Idle Min                    float64\n",
      "encoded_label                 int64\n",
      "Length: 78, dtype: object\n",
      "Protocol                       int8\n",
      "Flow Duration                 int32\n",
      "Total Fwd Packets             int16\n",
      "Total Backward Packets        int16\n",
      "Fwd Packets Length Total    float32\n",
      "                             ...   \n",
      "Idle Mean                   float64\n",
      "Idle Std                    float64\n",
      "Idle Max                    float64\n",
      "Idle Min                    float64\n",
      "encoded_label                 int64\n",
      "Length: 78, dtype: object\n",
      "Protocol                       int8\n",
      "Flow Duration                 int32\n",
      "Total Fwd Packets             int32\n",
      "Total Backward Packets        int16\n",
      "Fwd Packets Length Total    float32\n",
      "                             ...   \n",
      "Idle Mean                   float64\n",
      "Idle Std                    float64\n",
      "Idle Max                    float64\n",
      "Idle Min                    float64\n",
      "encoded_label                 int64\n",
      "Length: 78, dtype: object\n",
      "Protocol                       int8\n",
      "Flow Duration                 int32\n",
      "Total Fwd Packets             int16\n",
      "Total Backward Packets        int16\n",
      "Fwd Packets Length Total    float32\n",
      "                             ...   \n",
      "Idle Mean                   float64\n",
      "Idle Std                    float64\n",
      "Idle Max                    float64\n",
      "Idle Min                    float64\n",
      "encoded_label                 int64\n",
      "Length: 78, dtype: object\n",
      "Protocol                       int8\n",
      "Flow Duration                 int32\n",
      "Total Fwd Packets             int32\n",
      "Total Backward Packets        int16\n",
      "Fwd Packets Length Total    float32\n",
      "                             ...   \n",
      "Idle Mean                   float32\n",
      "Idle Std                    float32\n",
      "Idle Max                    float32\n",
      "Idle Min                    float32\n",
      "encoded_label                 int64\n",
      "Length: 78, dtype: object\n",
      "Protocol                       int8\n",
      "Flow Duration                 int32\n",
      "Total Fwd Packets             int32\n",
      "Total Backward Packets        int16\n",
      "Fwd Packets Length Total    float32\n",
      "                             ...   \n",
      "Idle Mean                   float64\n",
      "Idle Std                    float64\n",
      "Idle Max                    float64\n",
      "Idle Min                    float64\n",
      "encoded_label                 int64\n",
      "Length: 78, dtype: object\n"
     ]
    }
   ],
   "source": [
    "# Check dtypes\n",
    "for df in df_list:\n",
    "    print(df.dtypes)"
   ]
  },
  {
   "cell_type": "code",
   "execution_count": 18,
   "id": "6f2cca00",
   "metadata": {},
   "outputs": [],
   "source": [
    "# SVMs are sensitive to the scale of the data, so feature scaling is a crucial step.\n",
    "\n",
    "scaler = StandardScaler()\n",
    "\n",
    "def standard_scaler(df):\n",
    "    # Convert all column names to strings\n",
    "    df.columns = df.columns.astype(str)\n",
    "\n",
    "    # Assuming 'df' is your feature matrix\n",
    "    scaled_features = scaler.fit_transform(df)\n",
    "\n",
    "    # Replace df with the scaled features (if you wish to keep it in a DataFrame format)\n",
    "    df = pd.DataFrame(scaled_features, index=df.index, columns=df.columns)"
   ]
  },
  {
   "cell_type": "code",
   "execution_count": 19,
   "id": "4d4dda93",
   "metadata": {
    "scrolled": true
   },
   "outputs": [],
   "source": [
    "# Do scaling for all data files\n",
    "for df in df_list:\n",
    "    standard_scaler(df)"
   ]
  },
  {
   "cell_type": "code",
   "execution_count": 20,
   "id": "61f550b6",
   "metadata": {},
   "outputs": [],
   "source": [
    "y_list = []\n",
    "\n",
    "# Retrieve target labels from all data files\n",
    "for df in df_list:\n",
    "    y_list.append(df['encoded_label'])        "
   ]
  },
  {
   "cell_type": "code",
   "execution_count": 21,
   "id": "92bdb02a",
   "metadata": {},
   "outputs": [
    {
     "name": "stdout",
     "output_type": "stream",
     "text": [
      "5\n",
      "6\n"
     ]
    }
   ],
   "source": [
    "# Protocols for training\n",
    "training_protocols = ['01-12/DrDoS_NTP.csv', '01-12/Syn.csv', '01-12/DrDoS_DNS.csv', '01-12/TFTP.csv', '01-12/UDPLag.csv']\n",
    "\n",
    "# Protocols for testing\n",
    "testing_protocols = ['01-12/DrDoS_SSDP.csv', '01-12/DrDoS_NetBIOS.csv', '01-12/DrDoS_MSSQL.csv', '01-12/DrDoS_UDP.csv', '01-12/DrDoS_LDAP.csv', '01-12/DrDoS_SNMP.csv']\n",
    "\n",
    "training_dfs = []\n",
    "testing_dfs = []\n",
    "\n",
    "# Retrive training and testing protocols\n",
    "for df, protocol_name in zip(df_list, dspaths):\n",
    "    if protocol_name in training_protocols:\n",
    "        training_dfs.append(df)\n",
    "    elif protocol_name in testing_protocols:\n",
    "        testing_dfs.append(df)\n",
    "\n",
    "print(len(training_dfs))\n",
    "print(len(testing_dfs))"
   ]
  },
  {
   "cell_type": "code",
   "execution_count": 22,
   "id": "b1b6cb40",
   "metadata": {},
   "outputs": [],
   "source": [
    "# Combine multiple csv files to one csv file\n",
    "combined_training_dfs = pd.concat(training_dfs, ignore_index=True)\n",
    "combined_testing_dfs = pd.concat(testing_dfs, ignore_index=True)"
   ]
  },
  {
   "cell_type": "code",
   "execution_count": 23,
   "id": "6d8b1910",
   "metadata": {},
   "outputs": [],
   "source": [
    "# Apply Variance Threshold\n",
    "selector = VarianceThreshold(threshold=0)\n",
    "\n",
    "# Apply feature selection to df. Assumption: df is your features matrix\n",
    "X_filtered = selector.fit_transform(combined_training_dfs)\n",
    "    \n",
    "# Convert the result back into a DataFrame\n",
    "df_filtered = pd.DataFrame(X_filtered, columns=combined_training_dfs.columns[selector.get_support()])"
   ]
  },
  {
   "cell_type": "code",
   "execution_count": 24,
   "id": "1ab73c20",
   "metadata": {},
   "outputs": [],
   "source": [
    "# Calculate the absolute correlation of each feature with the target\n",
    "correlation_threshold = 0.01 # This is an example threshhold\n",
    "\n",
    "y_training = df_filtered['encoded_label']\n",
    "\n",
    "corr_with_target = df_filtered.corrwith(y_training)\n",
    "\n",
    "# Identify features with correlation below the threshold\n",
    "low_corr_features = corr_with_target[corr_with_target < correlation_threshold].index\n",
    "\n",
    "# Drop low correlation features\n",
    "df_filtered.drop(low_corr_features, axis=1, inplace=True)"
   ]
  },
  {
   "cell_type": "code",
   "execution_count": 25,
   "id": "1641001f",
   "metadata": {},
   "outputs": [
    {
     "name": "stdout",
     "output_type": "stream",
     "text": [
      "(1126043, 78)\n",
      "(155875, 78)\n",
      "(111154, 78)\n",
      "(4419496, 78)\n",
      "(92942, 78)\n"
     ]
    }
   ],
   "source": [
    "# Check accquired dataframe shape\n",
    "for df in training_dfs:\n",
    "    print(df.shape)"
   ]
  },
  {
   "cell_type": "code",
   "execution_count": 26,
   "id": "c9f11a6f",
   "metadata": {
    "scrolled": true
   },
   "outputs": [
    {
     "data": {
      "image/png": "[encoded data removed]",
      "text/plain": [
       "<Figure size 1000x600 with 1 Axes>"
      ]
     },
     "metadata": {},
     "output_type": "display_data"
    }
   ],
   "source": [
    "# Get most important features\n",
    "\n",
    "df_features = df_filtered.drop('encoded_label', axis=1)\n",
    "\n",
    "# Train a Random Forest classifier to get a feature importances\n",
    "rf = RandomForestClassifier()\n",
    "rf.fit(df_features, pd.concat(y_list[:5], ignore_index=True))\n",
    "\n",
    "# Get feature importances\n",
    "feature_importances = rf.feature_importances_\n",
    "\n",
    "# Create a Series for easier plotting\n",
    "importances_series = pd.Series(feature_importances, index=df_features.columns)\n",
    "\n",
    "# Plot the most important features\n",
    "importances_series_sorted = importances_series.sort_values(ascending=False)\n",
    "\n",
    "plt.figure(figsize=(10, 6))\n",
    "importances_series_sorted.plot(kind='bar')\n",
    "plt.title('Feature Importances')\n",
    "\n",
    "# Rotate and align the tick labels so they look better\n",
    "plt.xticks(rotation=45, ha=\"right\")  # Tilt labels at a 45-degree angle for readability\n",
    "\n",
    "# Ensure the layout is tight so everything fits without overlapping\n",
    "plt.tight_layout()\n",
    "\n",
    "plt.show()\n"
   ]
  },
  {
   "cell_type": "code",
   "execution_count": 27,
   "id": "9677068d",
   "metadata": {},
   "outputs": [
    {
     "name": "stdout",
     "output_type": "stream",
     "text": [
      "Number of 0s: 43178\n",
      "Number of 1s: 5861918\n"
     ]
    }
   ],
   "source": [
    "# Check target label balance\n",
    "y_counts = df_filtered['encoded_label'].value_counts()\n",
    "print(f\"Number of 0s: {y_counts.get(0, 0)}\")  # The get method returns 0 if the key is not found\n",
    "print(f\"Number of 1s: {y_counts.get(1, 0)}\")"
   ]
  },
  {
   "cell_type": "code",
   "execution_count": 28,
   "id": "4afa72db",
   "metadata": {},
   "outputs": [
    {
     "name": "stdout",
     "output_type": "stream",
     "text": [
      "Number of 0s: 18562\n",
      "Number of 1s: 18614\n"
     ]
    }
   ],
   "source": [
    "# Divided dataset into attacks vs non-attacks, and sample a\n",
    "# balanced dataframe.\n",
    "\n",
    "attack = df_filtered[df_filtered['encoded_label'] == 1]\n",
    "non_attack = df_filtered[df_filtered['encoded_label'] == 0]\n",
    "\n",
    "# Calculate sample size for 0.01% of the data\n",
    "sample_size_per_class = int(0.5 * len(df) / 2)\n",
    "\n",
    "# Sample each class\n",
    "attack_sample = attack.sample(n=sample_size_per_class, random_state=42)\n",
    "non_attack_sample = non_attack.sample(n=sample_size_per_class, random_state=42)\n",
    "\n",
    "# Combine the samples to get a balanced dataset\n",
    "balanced_df = pd.concat([attack_sample, non_attack_sample])\n",
    "\n",
    "X = balanced_df.drop('encoded_label', axis=1)\n",
    "y = balanced_df['encoded_label']\n",
    "\n",
    "# Split the data into two sets: One for developing the model (80%) and one for final prediction (20%)\n",
    "X_dev, X_final_pred, y_dev, y_final_pred = train_test_split(X, y, test_size=0.2, random_state=42)\n",
    "\n",
    "y_counts = y_dev.value_counts()\n",
    "print(f\"Number of 0s: {y_counts.get(0, 0)}\")  # The get method returns 0 if the key is not found\n",
    "print(f\"Number of 1s: {y_counts.get(1, 0)}\")\n",
    "\n"
   ]
  },
  {
   "cell_type": "code",
   "execution_count": 29,
   "id": "eb1869d8",
   "metadata": {},
   "outputs": [
    {
     "name": "stdout",
     "output_type": "stream",
     "text": [
      "Cross-validation scores: [0.99811727 0.99838601 0.99677202 0.99838601 0.99771352]\n",
      "Mean CV score: 0.9978749665832589\n",
      "F1 score: 0.9986011917459174\n",
      "Final prediction accuracy: 0.9986012481170647\n"
     ]
    }
   ],
   "source": [
    "# Initialize the Random Forest classifier\n",
    "rf = RandomForestClassifier(random_state=42)\n",
    "\n",
    "# Apply k-fold cross-validation (k=5)\n",
    "cv_scores = cross_val_score(rf, X_dev, y_dev, cv=5)\n",
    "print(\"Cross-validation scores:\", cv_scores)\n",
    "print(\"Mean CV score:\", cv_scores.mean())\n",
    "\n",
    "# Train the model on the entire development set\n",
    "rf.fit(X_dev, y_dev)\n",
    "\n",
    "# Predict on the final prediction set\n",
    "final_predictions = rf.predict(X_final_pred)\n",
    "\n",
    "# Evaluate the performance on the final prediction set\n",
    "print(\"F1 score:\", f1_score(y_final_pred, final_predictions, average='macro'))  # Use 'binary' if it's a binary classification\n",
    "print(\"Final prediction accuracy:\", accuracy_score(y_final_pred, final_predictions))"
   ]
  },
  {
   "cell_type": "code",
   "execution_count": 30,
   "id": "caa0974e",
   "metadata": {},
   "outputs": [],
   "source": [
    "# Retrieve desired features, this is a must since we need to apply\n",
    "# the same data processing on our dataframes. One dataframe consist\n",
    "# of seen protocols under training, and the other dataframe holds data\n",
    "# that the model didn't see while training (other protocols).\n",
    "\n",
    "desired_features = df_filtered.columns.tolist()\n",
    "common_features = [feature for feature in desired_features if feature in combined_testing_dfs]\n",
    "df2_filtered_testing = combined_testing_dfs[common_features]"
   ]
  },
  {
   "cell_type": "code",
   "execution_count": 31,
   "id": "24fb24ec",
   "metadata": {},
   "outputs": [
    {
     "name": "stdout",
     "output_type": "stream",
     "text": [
      "F1 score: 0.846309210508079\n",
      "Final prediction accuracy: 0.9966310264577926\n"
     ]
    }
   ],
   "source": [
    "# Predicting on unseen protocols with Random Forest model\n",
    "\n",
    "X = df2_filtered_testing.drop('encoded_label', axis=1)\n",
    "y = df2_filtered_testing['encoded_label']\n",
    "\n",
    "final_predictions = rf.predict(X)\n",
    "\n",
    "# F1-score 0.59% when unbalanced data set\n",
    "# F1-score 0.84% when balanced data set\n",
    "\n",
    "# Evaluate the performance on the final prediction set\n",
    "print(\"F1 score:\", f1_score(y, final_predictions, average='macro'))  # Use 'binary' if it's a binary classification\n",
    "print(\"Final prediction accuracy:\", accuracy_score(y, final_predictions))"
   ]
  },
  {
   "cell_type": "code",
   "execution_count": 32,
   "id": "c6f5adac",
   "metadata": {},
   "outputs": [
    {
     "name": "stdout",
     "output_type": "stream",
     "text": [
      "Cross-validation scores: [0.7534965  0.75171486 0.76328178 0.75574983 0.7596503 ]\n",
      "Mean CV score: 0.7567786551041428\n"
     ]
    },
    {
     "data": {
      "text/html": [
       "<style>#sk-container-id-1 {color: black;background-color: white;}#sk-container-id-1 pre{padding: 0;}#sk-container-id-1 div.sk-toggleable {background-color: white;}#sk-container-id-1 label.sk-toggleable__label {cursor: pointer;display: block;width: 100%;margin-bottom: 0;padding: 0.3em;box-sizing: border-box;text-align: center;}#sk-container-id-1 label.sk-toggleable__label-arrow:before {content: \"▸\";float: left;margin-right: 0.25em;color: #696969;}#sk-container-id-1 label.sk-toggleable__label-arrow:hover:before {color: black;}#sk-container-id-1 div.sk-estimator:hover label.sk-toggleable__label-arrow:before {color: black;}#sk-container-id-1 div.sk-toggleable__content {max-height: 0;max-width: 0;overflow: hidden;text-align: left;background-color: #f0f8ff;}#sk-container-id-1 div.sk-toggleable__content pre {margin: 0.2em;color: black;border-radius: 0.25em;background-color: #f0f8ff;}#sk-container-id-1 input.sk-toggleable__control:checked~div.sk-toggleable__content {max-height: 200px;max-width: 100%;overflow: auto;}#sk-container-id-1 input.sk-toggleable__control:checked~label.sk-toggleable__label-arrow:before {content: \"▾\";}#sk-container-id-1 div.sk-estimator input.sk-toggleable__control:checked~label.sk-toggleable__label {background-color: #d4ebff;}#sk-container-id-1 div.sk-label input.sk-toggleable__control:checked~label.sk-toggleable__label {background-color: #d4ebff;}#sk-container-id-1 input.sk-hidden--visually {border: 0;clip: rect(1px 1px 1px 1px);clip: rect(1px, 1px, 1px, 1px);height: 1px;margin: -1px;overflow: hidden;padding: 0;position: absolute;width: 1px;}#sk-container-id-1 div.sk-estimator {font-family: monospace;background-color: #f0f8ff;border: 1px dotted black;border-radius: 0.25em;box-sizing: border-box;margin-bottom: 0.5em;}#sk-container-id-1 div.sk-estimator:hover {background-color: #d4ebff;}#sk-container-id-1 div.sk-parallel-item::after {content: \"\";width: 100%;border-bottom: 1px solid gray;flex-grow: 1;}#sk-container-id-1 div.sk-label:hover label.sk-toggleable__label {background-color: #d4ebff;}#sk-container-id-1 div.sk-serial::before {content: \"\";position: absolute;border-left: 1px solid gray;box-sizing: border-box;top: 0;bottom: 0;left: 50%;z-index: 0;}#sk-container-id-1 div.sk-serial {display: flex;flex-direction: column;align-items: center;background-color: white;padding-right: 0.2em;padding-left: 0.2em;position: relative;}#sk-container-id-1 div.sk-item {position: relative;z-index: 1;}#sk-container-id-1 div.sk-parallel {display: flex;align-items: stretch;justify-content: center;background-color: white;position: relative;}#sk-container-id-1 div.sk-item::before, #sk-container-id-1 div.sk-parallel-item::before {content: \"\";position: absolute;border-left: 1px solid gray;box-sizing: border-box;top: 0;bottom: 0;left: 50%;z-index: -1;}#sk-container-id-1 div.sk-parallel-item {display: flex;flex-direction: column;z-index: 1;position: relative;background-color: white;}#sk-container-id-1 div.sk-parallel-item:first-child::after {align-self: flex-end;width: 50%;}#sk-container-id-1 div.sk-parallel-item:last-child::after {align-self: flex-start;width: 50%;}#sk-container-id-1 div.sk-parallel-item:only-child::after {width: 0;}#sk-container-id-1 div.sk-dashed-wrapped {border: 1px dashed gray;margin: 0 0.4em 0.5em 0.4em;box-sizing: border-box;padding-bottom: 0.4em;background-color: white;}#sk-container-id-1 div.sk-label label {font-family: monospace;font-weight: bold;display: inline-block;line-height: 1.2em;}#sk-container-id-1 div.sk-label-container {text-align: center;}#sk-container-id-1 div.sk-container {/* jupyter's `normalize.less` sets `[hidden] { display: none; }` but bootstrap.min.css set `[hidden] { display: none !important; }` so we also need the `!important` here to be able to override the default hidden behavior on the sphinx rendered scikit-learn.org. See: https://github.com/scikit-learn/scikit-learn/issues/21755 */display: inline-block !important;position: relative;}#sk-container-id-1 div.sk-text-repr-fallback {display: none;}</style><div id=\"sk-container-id-1\" class=\"sk-top-container\"><div class=\"sk-text-repr-fallback\"><pre>SVC(gamma=&#x27;auto&#x27;)</pre><b>In a Jupyter environment, please rerun this cell to show the HTML representation or trust the notebook. <br />On GitHub, the HTML representation is unable to render, please try loading this page with nbviewer.org.</b></div><div class=\"sk-container\" hidden><div class=\"sk-item\"><div class=\"sk-estimator sk-toggleable\"><input class=\"sk-toggleable__control sk-hidden--visually\" id=\"sk-estimator-id-1\" type=\"checkbox\" checked><label for=\"sk-estimator-id-1\" class=\"sk-toggleable__label sk-toggleable__label-arrow\">SVC</label><div class=\"sk-toggleable__content\"><pre>SVC(gamma=&#x27;auto&#x27;)</pre></div></div></div></div></div>"
      ],
      "text/plain": [
       "SVC(gamma='auto')"
      ]
     },
     "execution_count": 32,
     "metadata": {},
     "output_type": "execute_result"
    }
   ],
   "source": [
    "# Accuracy seems to be much better with unbalanced dataset.\n",
    "\n",
    "# Train the SVM\n",
    "start_time = time.time()\n",
    "svm_model = SVC(gamma='auto')\n",
    "\n",
    "# Apply k-fold cross-validation\n",
    "cv_scores = cross_val_score(svm_model, X_dev, y_dev, cv=5)\n",
    "\n",
    "print(\"Cross-validation scores:\", cv_scores)\n",
    "print(\"Mean CV score:\", cv_scores.mean())\n",
    "\n",
    "end_time = time.time()\n",
    "\n",
    "svm_model.fit(X_dev, y_dev)"
   ]
  },
  {
   "cell_type": "code",
   "execution_count": 33,
   "id": "81b44e01",
   "metadata": {},
   "outputs": [
    {
     "name": "stdout",
     "output_type": "stream",
     "text": [
      "F1 score: 0.7584082225601614\n",
      "Final prediction accuracy: 0.7704970948999355\n"
     ]
    }
   ],
   "source": [
    "# Predict on the final prediction set with SVM\n",
    "final_predictions = svm_model.predict(X_final_pred)\n",
    "\n",
    "# Evaluate the performance on the final prediction set\n",
    "print(\"F1 score:\", f1_score(y_final_pred, final_predictions, average='macro'))  # Use 'binary' if it's a binary classification\n",
    "print(\"Final prediction accuracy:\", accuracy_score(y_final_pred, final_predictions))"
   ]
  },
  {
   "cell_type": "code",
   "execution_count": 34,
   "id": "9e86d4de",
   "metadata": {},
   "outputs": [
    {
     "name": "stdout",
     "output_type": "stream",
     "text": [
      "F1 score: 0.7916755876431376\n",
      "Final prediction accuracy: 0.9975691454303675\n"
     ]
    }
   ],
   "source": [
    "# Predicting on unseen protocols with SVM\n",
    "\n",
    "X = df2_filtered_testing.drop('encoded_label', axis=1)\n",
    "y = df2_filtered_testing['encoded_label']\n",
    "\n",
    "final_predictions = svm_model.predict(X)\n",
    "\n",
    "# Evaluate the performance on the final prediction set\n",
    "print(\"F1 score:\", f1_score(y, final_predictions, average='macro'))  # Use 'binary' if it's a binary classification\n",
    "print(\"Final prediction accuracy:\", accuracy_score(y, final_predictions))"
   ]
  },
  {
   "cell_type": "code",
   "execution_count": 35,
   "id": "0449ceab",
   "metadata": {
    "scrolled": true
   },
   "outputs": [
    {
     "name": "stdout",
     "output_type": "stream",
     "text": [
      "Cross-validation scores: [0.99744486 0.99798252 0.99623403 0.99852051 0.99784802]\n",
      "Accuracy: 1.00 (+/- 0.00)\n",
      "F1 score: 0.9987087975381851\n",
      "Final prediction accuracy: 0.9987088444157521\n"
     ]
    }
   ],
   "source": [
    "# Initialize the XGBoost classifier\n",
    "xgb_clf = xgb.XGBClassifier(objective='binary:logistic', gamma=0.1)\n",
    "\n",
    "# Apply k-fold cross-validation\n",
    "cv_scores = cross_val_score(xgb_clf, X_dev, y_dev, cv=5)\n",
    "\n",
    "# Print the cross-validation scores\n",
    "print(\"Cross-validation scores:\", cv_scores)\n",
    "\n",
    "# Print the mean score and 95% confidence interval of the score estimate\n",
    "print(\"Accuracy: %0.2f (+/- %0.2f)\" % (cv_scores.mean(), cv_scores.std() * 2))\n",
    "\n",
    "# Fit the classifier to the training data\n",
    "xgb_clf.fit(X_dev, y_dev)\n",
    "\n",
    "# Predict on testing set\n",
    "final_predictions = xgb_clf.predict(X_final_pred)\n",
    "\n",
    "# Calculate accuracy\n",
    "# Evaluate the performance on the final prediction set\n",
    "print(\"F1 score:\", f1_score(y_final_pred, final_predictions, average='macro'))  # Use 'binary' if it's a binary classification\n",
    "print(\"Final prediction accuracy:\", accuracy_score(y_final_pred, final_predictions))"
   ]
  },
  {
   "cell_type": "code",
   "execution_count": 36,
   "id": "ff727c06",
   "metadata": {},
   "outputs": [
    {
     "name": "stdout",
     "output_type": "stream",
     "text": [
      "F1 score: 0.8331656156298582\n",
      "Final prediction accuracy: 0.9961989414131374\n"
     ]
    }
   ],
   "source": [
    "# Predicting on unseen protocols with XGBoost\n",
    "\n",
    "X = df2_filtered_testing.drop('encoded_label', axis=1)\n",
    "y = df2_filtered_testing['encoded_label']\n",
    "\n",
    "final_predictions = xgb_clf.predict(X)\n",
    "\n",
    "# Evaluate the performance on the final prediction set\n",
    "print(\"F1 score:\", f1_score(y, final_predictions, average='macro'))  # Use 'binary' if it's a binary classification\n",
    "print(\"Final prediction accuracy:\", accuracy_score(y, final_predictions))"
   ]
  },
  {
   "cell_type": "code",
   "execution_count": 37,
   "id": "e25fc8c5",
   "metadata": {},
   "outputs": [
    {
     "name": "stdout",
     "output_type": "stream",
     "text": [
      "    train-error-mean  train-error-std  test-error-mean  test-error-std\n",
      "0           0.004438         0.000174         0.005111        0.000786\n",
      "1           0.004290         0.000515         0.004896        0.000933\n",
      "2           0.004425         0.000169         0.004869        0.000971\n",
      "3           0.003941         0.000325         0.004761        0.000984\n",
      "4           0.003860         0.000295         0.004654        0.000834\n",
      "5           0.003860         0.000274         0.004654        0.000723\n",
      "6           0.003766         0.000390         0.004492        0.000660\n",
      "7           0.003658         0.000295         0.004411        0.000805\n",
      "8           0.003551         0.000183         0.004358        0.000760\n",
      "9           0.003335         0.000083         0.004169        0.000956\n",
      "10          0.002999         0.000169         0.003793        0.000971\n",
      "11          0.002878         0.000083         0.003712        0.000971\n",
      "12          0.002650         0.000076         0.003604        0.000729\n",
      "13          0.002488         0.000106         0.003201        0.000897\n",
      "14          0.002367         0.000019         0.003201        0.000834\n",
      "15          0.002206         0.000101         0.003147        0.000810\n",
      "16          0.002192         0.000133         0.003093        0.000686\n",
      "17          0.001991         0.000101         0.002986        0.000515\n",
      "18          0.001856         0.000144         0.002878        0.000424\n",
      "19          0.001775         0.000114         0.002798        0.000418\n",
      "20          0.001641         0.000116         0.002717        0.000363\n",
      "21          0.001600         0.000083         0.002663        0.000349\n",
      "22          0.001426         0.000106         0.002555        0.000201\n",
      "23          0.001412         0.000114         0.002502        0.000198\n",
      "24          0.001412         0.000114         0.002502        0.000198\n",
      "25          0.001439         0.000095         0.002502        0.000287\n",
      "26          0.001318         0.000169         0.002502        0.000287\n",
      "27          0.001332         0.000165         0.002475        0.000325\n",
      "28          0.001305         0.000149         0.002475        0.000325\n",
      "29          0.001278         0.000181         0.002421        0.000349\n",
      "30          0.001251         0.000216         0.002340        0.000329\n",
      "31          0.001237         0.000214         0.002340        0.000395\n",
      "32          0.001237         0.000266         0.002313        0.000363\n",
      "33          0.001197         0.000266         0.002286        0.000363\n"
     ]
    }
   ],
   "source": [
    "dtrain = xgb.DMatrix(X_dev, label=y_dev)\n",
    "params = {'objective':'binary:logistic', 'gamma':0.1}\n",
    "\n",
    "# Perform cross-validation\n",
    "cv_results = xgb.cv(dtrain=dtrain, params=params, nfold=3,\n",
    "                    num_boost_round=50, early_stopping_rounds=10, metrics=\"error\", as_pandas=True)\n",
    "\n",
    "print(cv_results)"
   ]
  },
  {
   "cell_type": "code",
   "execution_count": 38,
   "id": "da3860e5",
   "metadata": {},
   "outputs": [
    {
     "name": "stdout",
     "output_type": "stream",
     "text": [
      "Cross-validation scores: [0.9965035  0.99757902 0.99583053 0.99757902 0.99704102]\n",
      "Mean CV score: 0.9969066172563146\n",
      "F1 score: 0.9973100177612922\n",
      "Final prediction accuracy: 0.9973100925328169\n"
     ]
    }
   ],
   "source": [
    "# Initialize the Decision Tree classifier\n",
    "dt_clf = DecisionTreeClassifier()\n",
    "\n",
    "# Apply k-fold cross-validation\n",
    "cv_scores = cross_val_score(dt_clf, X_dev, y_dev, cv=5)\n",
    "\n",
    "print(\"Cross-validation scores:\", cv_scores)\n",
    "print(\"Mean CV score:\", cv_scores.mean())\n",
    "\n",
    "# Train the model\n",
    "dt_clf.fit(X_dev, y_dev)\n",
    "\n",
    "# Make predictions\n",
    "final_predictions = dt_clf.predict(X_final_pred)\n",
    "\n",
    "# Calculate accuracy\n",
    "# Evaluate the performance on the final prediction set\n",
    "print(\"F1 score:\", f1_score(y_final_pred, final_predictions, average='macro'))  # Use 'binary' if it's a binary classification\n",
    "print(\"Final prediction accuracy:\", accuracy_score(y_final_pred, final_predictions))"
   ]
  },
  {
   "cell_type": "code",
   "execution_count": 39,
   "id": "5a80b436",
   "metadata": {},
   "outputs": [
    {
     "name": "stdout",
     "output_type": "stream",
     "text": [
      "F1 score: 0.8489898641927796\n",
      "Final prediction accuracy: 0.9967170135313558\n"
     ]
    }
   ],
   "source": [
    "# Predicting on unseen protocols with Decision Tree model\n",
    "\n",
    "X = df2_filtered_testing.drop('encoded_label', axis=1)\n",
    "y = df2_filtered_testing['encoded_label']\n",
    "\n",
    "final_predictions = dt_clf.predict(X)\n",
    "\n",
    "# Evaluate the performance on the final prediction set\n",
    "print(\"F1 score:\", f1_score(y, final_predictions, average='macro'))  # Use 'binary' if it's a binary classification\n",
    "print(\"Final prediction accuracy:\", accuracy_score(y, final_predictions))"
   ]
  },
  {
   "cell_type": "code",
   "execution_count": 40,
   "id": "04ad8320",
   "metadata": {},
   "outputs": [
    {
     "name": "stdout",
     "output_type": "stream",
     "text": [
      "Accuracy: 0.9976\n",
      "Accuracy: 0.9967\n",
      "F1 Score: 0.9976\n",
      "F1 Score: 0.9983\n"
     ]
    }
   ],
   "source": [
    "# Hybrid predictions on seen protocols and unseen protocols\n",
    "# Combines Decision Tree model and SVM model\n",
    "\n",
    "\n",
    "sampled_df = df2_filtered_testing.sample(frac=0.05, random_state=42)\n",
    "\n",
    "X_trained = X_final_pred\n",
    "y_trained = y_final_pred\n",
    "\n",
    "X_untrained = df2_filtered_testing.drop('encoded_label', axis=1)\n",
    "y_untrained = df2_filtered_testing['encoded_label']\n",
    "\n",
    "# trained = protocols seen, untrained = protocols unseen\n",
    "svm_prediction_trained = svm_model.predict(X_trained)\n",
    "svm_prediction_untrained = svm_model.predict(X_untrained)\n",
    "\n",
    "dt_prediction_trained = dt_clf.predict(X_trained)\n",
    "dt_prediction_untrained = dt_clf.predict(X_untrained)\n",
    "\n",
    "# Combine predictions: For simplicity, we'll use majority voting\n",
    "combined_predictions_trained = np.round((svm_prediction_trained + dt_prediction_trained) / 2).astype(int)\n",
    "combined_predictions_untrained = np.round((svm_prediction_untrained + dt_prediction_untrained) / 2).astype(int)\n",
    "\n",
    "# Calculate accuracy\n",
    "accuracy_trained = accuracy_score(y_trained, combined_predictions_trained)\n",
    "accuracy_untrained = accuracy_score(y_untrained, combined_predictions_untrained)\n",
    "print(f\"Accuracy: {accuracy_trained:.4f}\")\n",
    "print(f\"Accuracy: {accuracy_untrained:.4f}\")\n",
    "\n",
    "# Calculate F1 score. The `average` parameter is crucial if you have a multi-class problem.\n",
    "# For binary classification, you can use `average='binary'`. For multi-class, you might consider 'micro', 'macro', or 'weighted'.\n",
    "f1_trained = f1_score(y_trained, combined_predictions_trained, average='binary')  # Adjust `average` as per your problem\n",
    "f1_untrained = f1_score(y_untrained, combined_predictions_untrained, average='binary')  # Adjust `average` as per your problem\n",
    "print(f\"F1 Score: {f1_trained:.4f}\")\n",
    "print(f\"F1 Score: {f1_untrained:.4f}\")"
   ]
  }
 ],
 "metadata": {
  "kernelspec": {
   "display_name": "Python 3 (ipykernel)",
   "language": "python",
   "name": "python3"
  },
  "language_info": {
   "codemirror_mode": {
    "name": "ipython",
    "version": 3
   },
   "file_extension": ".py",
   "mimetype": "text/x-python",
   "name": "python",
   "nbconvert_exporter": "python",
   "pygments_lexer": "ipython3",
   "version": "3.9.6"
  }
 },
 "nbformat": 4,
 "nbformat_minor": 5
}
